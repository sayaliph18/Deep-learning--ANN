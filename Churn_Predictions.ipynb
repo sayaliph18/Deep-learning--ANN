{
  "nbformat": 4,
  "nbformat_minor": 0,
  "metadata": {
    "colab": {
      "provenance": [],
      "gpuType": "T4",
      "authorship_tag": "ABX9TyNDfueKuqNWU4ZVsijh7dTo",
      "include_colab_link": true
    },
    "kernelspec": {
      "name": "python3",
      "display_name": "Python 3"
    },
    "language_info": {
      "name": "python"
    },
    "accelerator": "GPU"
  },
  "cells": [
    {
      "cell_type": "markdown",
      "metadata": {
        "id": "view-in-github",
        "colab_type": "text"
      },
      "source": [
        "<a href=\"https://colab.research.google.com/github/sayaliph18/Deep-learning--ANN/blob/main/Churn_Predictions.ipynb\" target=\"_parent\"><img src=\"https://colab.research.google.com/assets/colab-badge.svg\" alt=\"Open In Colab\"/></a>"
      ]
    },
    {
      "cell_type": "markdown",
      "source": [
        "# Artificial Neural Network"
      ],
      "metadata": {
        "id": "Y2WrY6cXShDa"
      }
    },
    {
      "cell_type": "markdown",
      "source": [
        "#Part 1 - Data Preprocessing\n",
        "\n",
        "Importing the libraries"
      ],
      "metadata": {
        "id": "WL_Ix8VKSs7O"
      }
    },
    {
      "cell_type": "code",
      "source": [
        "!pip install -q keras"
      ],
      "metadata": {
        "id": "CgWcYVyyjPlb"
      },
      "execution_count": 2,
      "outputs": []
    },
    {
      "cell_type": "code",
      "execution_count": 3,
      "metadata": {
        "id": "9vTspyarScNV"
      },
      "outputs": [],
      "source": [
        "import numpy as np\n",
        "import matplotlib.pyplot as plt\n",
        "import pandas as pd\n"
      ]
    },
    {
      "cell_type": "markdown",
      "source": [
        "Importing the dataset"
      ],
      "metadata": {
        "id": "1YQZ6DlZS8UZ"
      }
    },
    {
      "cell_type": "code",
      "source": [
        "dataset = pd.read_csv('Churn_Modelling.csv')\n",
        "dataset.head()\n"
      ],
      "metadata": {
        "colab": {
          "base_uri": "https://localhost:8080/",
          "height": 206
        },
        "id": "E2O_EyMfSol7",
        "outputId": "533933ce-9c0a-4581-83c0-493c1371f249"
      },
      "execution_count": 4,
      "outputs": [
        {
          "output_type": "execute_result",
          "data": {
            "text/plain": [
              "   RowNumber  CustomerId   Surname  CreditScore Geography  Gender  Age  \\\n",
              "0          1    15634602  Hargrave          619    France  Female   42   \n",
              "1          2    15647311      Hill          608     Spain  Female   41   \n",
              "2          3    15619304      Onio          502    France  Female   42   \n",
              "3          4    15701354      Boni          699    France  Female   39   \n",
              "4          5    15737888  Mitchell          850     Spain  Female   43   \n",
              "\n",
              "   Tenure    Balance  NumOfProducts  HasCrCard  IsActiveMember  \\\n",
              "0       2       0.00              1          1               1   \n",
              "1       1   83807.86              1          0               1   \n",
              "2       8  159660.80              3          1               0   \n",
              "3       1       0.00              2          0               0   \n",
              "4       2  125510.82              1          1               1   \n",
              "\n",
              "   EstimatedSalary  Exited  \n",
              "0        101348.88       1  \n",
              "1        112542.58       0  \n",
              "2        113931.57       1  \n",
              "3         93826.63       0  \n",
              "4         79084.10       0  "
            ],
            "text/html": [
              "\n",
              "  <div id=\"df-be4a36e4-6c0e-4ea1-8f06-8695caa17fb0\" class=\"colab-df-container\">\n",
              "    <div>\n",
              "<style scoped>\n",
              "    .dataframe tbody tr th:only-of-type {\n",
              "        vertical-align: middle;\n",
              "    }\n",
              "\n",
              "    .dataframe tbody tr th {\n",
              "        vertical-align: top;\n",
              "    }\n",
              "\n",
              "    .dataframe thead th {\n",
              "        text-align: right;\n",
              "    }\n",
              "</style>\n",
              "<table border=\"1\" class=\"dataframe\">\n",
              "  <thead>\n",
              "    <tr style=\"text-align: right;\">\n",
              "      <th></th>\n",
              "      <th>RowNumber</th>\n",
              "      <th>CustomerId</th>\n",
              "      <th>Surname</th>\n",
              "      <th>CreditScore</th>\n",
              "      <th>Geography</th>\n",
              "      <th>Gender</th>\n",
              "      <th>Age</th>\n",
              "      <th>Tenure</th>\n",
              "      <th>Balance</th>\n",
              "      <th>NumOfProducts</th>\n",
              "      <th>HasCrCard</th>\n",
              "      <th>IsActiveMember</th>\n",
              "      <th>EstimatedSalary</th>\n",
              "      <th>Exited</th>\n",
              "    </tr>\n",
              "  </thead>\n",
              "  <tbody>\n",
              "    <tr>\n",
              "      <th>0</th>\n",
              "      <td>1</td>\n",
              "      <td>15634602</td>\n",
              "      <td>Hargrave</td>\n",
              "      <td>619</td>\n",
              "      <td>France</td>\n",
              "      <td>Female</td>\n",
              "      <td>42</td>\n",
              "      <td>2</td>\n",
              "      <td>0.00</td>\n",
              "      <td>1</td>\n",
              "      <td>1</td>\n",
              "      <td>1</td>\n",
              "      <td>101348.88</td>\n",
              "      <td>1</td>\n",
              "    </tr>\n",
              "    <tr>\n",
              "      <th>1</th>\n",
              "      <td>2</td>\n",
              "      <td>15647311</td>\n",
              "      <td>Hill</td>\n",
              "      <td>608</td>\n",
              "      <td>Spain</td>\n",
              "      <td>Female</td>\n",
              "      <td>41</td>\n",
              "      <td>1</td>\n",
              "      <td>83807.86</td>\n",
              "      <td>1</td>\n",
              "      <td>0</td>\n",
              "      <td>1</td>\n",
              "      <td>112542.58</td>\n",
              "      <td>0</td>\n",
              "    </tr>\n",
              "    <tr>\n",
              "      <th>2</th>\n",
              "      <td>3</td>\n",
              "      <td>15619304</td>\n",
              "      <td>Onio</td>\n",
              "      <td>502</td>\n",
              "      <td>France</td>\n",
              "      <td>Female</td>\n",
              "      <td>42</td>\n",
              "      <td>8</td>\n",
              "      <td>159660.80</td>\n",
              "      <td>3</td>\n",
              "      <td>1</td>\n",
              "      <td>0</td>\n",
              "      <td>113931.57</td>\n",
              "      <td>1</td>\n",
              "    </tr>\n",
              "    <tr>\n",
              "      <th>3</th>\n",
              "      <td>4</td>\n",
              "      <td>15701354</td>\n",
              "      <td>Boni</td>\n",
              "      <td>699</td>\n",
              "      <td>France</td>\n",
              "      <td>Female</td>\n",
              "      <td>39</td>\n",
              "      <td>1</td>\n",
              "      <td>0.00</td>\n",
              "      <td>2</td>\n",
              "      <td>0</td>\n",
              "      <td>0</td>\n",
              "      <td>93826.63</td>\n",
              "      <td>0</td>\n",
              "    </tr>\n",
              "    <tr>\n",
              "      <th>4</th>\n",
              "      <td>5</td>\n",
              "      <td>15737888</td>\n",
              "      <td>Mitchell</td>\n",
              "      <td>850</td>\n",
              "      <td>Spain</td>\n",
              "      <td>Female</td>\n",
              "      <td>43</td>\n",
              "      <td>2</td>\n",
              "      <td>125510.82</td>\n",
              "      <td>1</td>\n",
              "      <td>1</td>\n",
              "      <td>1</td>\n",
              "      <td>79084.10</td>\n",
              "      <td>0</td>\n",
              "    </tr>\n",
              "  </tbody>\n",
              "</table>\n",
              "</div>\n",
              "    <div class=\"colab-df-buttons\">\n",
              "\n",
              "  <div class=\"colab-df-container\">\n",
              "    <button class=\"colab-df-convert\" onclick=\"convertToInteractive('df-be4a36e4-6c0e-4ea1-8f06-8695caa17fb0')\"\n",
              "            title=\"Convert this dataframe to an interactive table.\"\n",
              "            style=\"display:none;\">\n",
              "\n",
              "  <svg xmlns=\"http://www.w3.org/2000/svg\" height=\"24px\" viewBox=\"0 -960 960 960\">\n",
              "    <path d=\"M120-120v-720h720v720H120Zm60-500h600v-160H180v160Zm220 220h160v-160H400v160Zm0 220h160v-160H400v160ZM180-400h160v-160H180v160Zm440 0h160v-160H620v160ZM180-180h160v-160H180v160Zm440 0h160v-160H620v160Z\"/>\n",
              "  </svg>\n",
              "    </button>\n",
              "\n",
              "  <style>\n",
              "    .colab-df-container {\n",
              "      display:flex;\n",
              "      gap: 12px;\n",
              "    }\n",
              "\n",
              "    .colab-df-convert {\n",
              "      background-color: #E8F0FE;\n",
              "      border: none;\n",
              "      border-radius: 50%;\n",
              "      cursor: pointer;\n",
              "      display: none;\n",
              "      fill: #1967D2;\n",
              "      height: 32px;\n",
              "      padding: 0 0 0 0;\n",
              "      width: 32px;\n",
              "    }\n",
              "\n",
              "    .colab-df-convert:hover {\n",
              "      background-color: #E2EBFA;\n",
              "      box-shadow: 0px 1px 2px rgba(60, 64, 67, 0.3), 0px 1px 3px 1px rgba(60, 64, 67, 0.15);\n",
              "      fill: #174EA6;\n",
              "    }\n",
              "\n",
              "    .colab-df-buttons div {\n",
              "      margin-bottom: 4px;\n",
              "    }\n",
              "\n",
              "    [theme=dark] .colab-df-convert {\n",
              "      background-color: #3B4455;\n",
              "      fill: #D2E3FC;\n",
              "    }\n",
              "\n",
              "    [theme=dark] .colab-df-convert:hover {\n",
              "      background-color: #434B5C;\n",
              "      box-shadow: 0px 1px 3px 1px rgba(0, 0, 0, 0.15);\n",
              "      filter: drop-shadow(0px 1px 2px rgba(0, 0, 0, 0.3));\n",
              "      fill: #FFFFFF;\n",
              "    }\n",
              "  </style>\n",
              "\n",
              "    <script>\n",
              "      const buttonEl =\n",
              "        document.querySelector('#df-be4a36e4-6c0e-4ea1-8f06-8695caa17fb0 button.colab-df-convert');\n",
              "      buttonEl.style.display =\n",
              "        google.colab.kernel.accessAllowed ? 'block' : 'none';\n",
              "\n",
              "      async function convertToInteractive(key) {\n",
              "        const element = document.querySelector('#df-be4a36e4-6c0e-4ea1-8f06-8695caa17fb0');\n",
              "        const dataTable =\n",
              "          await google.colab.kernel.invokeFunction('convertToInteractive',\n",
              "                                                    [key], {});\n",
              "        if (!dataTable) return;\n",
              "\n",
              "        const docLinkHtml = 'Like what you see? Visit the ' +\n",
              "          '<a target=\"_blank\" href=https://colab.research.google.com/notebooks/data_table.ipynb>data table notebook</a>'\n",
              "          + ' to learn more about interactive tables.';\n",
              "        element.innerHTML = '';\n",
              "        dataTable['output_type'] = 'display_data';\n",
              "        await google.colab.output.renderOutput(dataTable, element);\n",
              "        const docLink = document.createElement('div');\n",
              "        docLink.innerHTML = docLinkHtml;\n",
              "        element.appendChild(docLink);\n",
              "      }\n",
              "    </script>\n",
              "  </div>\n",
              "\n",
              "\n",
              "<div id=\"df-c607e936-fda6-42f1-8793-d840bce7e1d4\">\n",
              "  <button class=\"colab-df-quickchart\" onclick=\"quickchart('df-c607e936-fda6-42f1-8793-d840bce7e1d4')\"\n",
              "            title=\"Suggest charts\"\n",
              "            style=\"display:none;\">\n",
              "\n",
              "<svg xmlns=\"http://www.w3.org/2000/svg\" height=\"24px\"viewBox=\"0 0 24 24\"\n",
              "     width=\"24px\">\n",
              "    <g>\n",
              "        <path d=\"M19 3H5c-1.1 0-2 .9-2 2v14c0 1.1.9 2 2 2h14c1.1 0 2-.9 2-2V5c0-1.1-.9-2-2-2zM9 17H7v-7h2v7zm4 0h-2V7h2v10zm4 0h-2v-4h2v4z\"/>\n",
              "    </g>\n",
              "</svg>\n",
              "  </button>\n",
              "\n",
              "<style>\n",
              "  .colab-df-quickchart {\n",
              "      --bg-color: #E8F0FE;\n",
              "      --fill-color: #1967D2;\n",
              "      --hover-bg-color: #E2EBFA;\n",
              "      --hover-fill-color: #174EA6;\n",
              "      --disabled-fill-color: #AAA;\n",
              "      --disabled-bg-color: #DDD;\n",
              "  }\n",
              "\n",
              "  [theme=dark] .colab-df-quickchart {\n",
              "      --bg-color: #3B4455;\n",
              "      --fill-color: #D2E3FC;\n",
              "      --hover-bg-color: #434B5C;\n",
              "      --hover-fill-color: #FFFFFF;\n",
              "      --disabled-bg-color: #3B4455;\n",
              "      --disabled-fill-color: #666;\n",
              "  }\n",
              "\n",
              "  .colab-df-quickchart {\n",
              "    background-color: var(--bg-color);\n",
              "    border: none;\n",
              "    border-radius: 50%;\n",
              "    cursor: pointer;\n",
              "    display: none;\n",
              "    fill: var(--fill-color);\n",
              "    height: 32px;\n",
              "    padding: 0;\n",
              "    width: 32px;\n",
              "  }\n",
              "\n",
              "  .colab-df-quickchart:hover {\n",
              "    background-color: var(--hover-bg-color);\n",
              "    box-shadow: 0 1px 2px rgba(60, 64, 67, 0.3), 0 1px 3px 1px rgba(60, 64, 67, 0.15);\n",
              "    fill: var(--button-hover-fill-color);\n",
              "  }\n",
              "\n",
              "  .colab-df-quickchart-complete:disabled,\n",
              "  .colab-df-quickchart-complete:disabled:hover {\n",
              "    background-color: var(--disabled-bg-color);\n",
              "    fill: var(--disabled-fill-color);\n",
              "    box-shadow: none;\n",
              "  }\n",
              "\n",
              "  .colab-df-spinner {\n",
              "    border: 2px solid var(--fill-color);\n",
              "    border-color: transparent;\n",
              "    border-bottom-color: var(--fill-color);\n",
              "    animation:\n",
              "      spin 1s steps(1) infinite;\n",
              "  }\n",
              "\n",
              "  @keyframes spin {\n",
              "    0% {\n",
              "      border-color: transparent;\n",
              "      border-bottom-color: var(--fill-color);\n",
              "      border-left-color: var(--fill-color);\n",
              "    }\n",
              "    20% {\n",
              "      border-color: transparent;\n",
              "      border-left-color: var(--fill-color);\n",
              "      border-top-color: var(--fill-color);\n",
              "    }\n",
              "    30% {\n",
              "      border-color: transparent;\n",
              "      border-left-color: var(--fill-color);\n",
              "      border-top-color: var(--fill-color);\n",
              "      border-right-color: var(--fill-color);\n",
              "    }\n",
              "    40% {\n",
              "      border-color: transparent;\n",
              "      border-right-color: var(--fill-color);\n",
              "      border-top-color: var(--fill-color);\n",
              "    }\n",
              "    60% {\n",
              "      border-color: transparent;\n",
              "      border-right-color: var(--fill-color);\n",
              "    }\n",
              "    80% {\n",
              "      border-color: transparent;\n",
              "      border-right-color: var(--fill-color);\n",
              "      border-bottom-color: var(--fill-color);\n",
              "    }\n",
              "    90% {\n",
              "      border-color: transparent;\n",
              "      border-bottom-color: var(--fill-color);\n",
              "    }\n",
              "  }\n",
              "</style>\n",
              "\n",
              "  <script>\n",
              "    async function quickchart(key) {\n",
              "      const quickchartButtonEl =\n",
              "        document.querySelector('#' + key + ' button');\n",
              "      quickchartButtonEl.disabled = true;  // To prevent multiple clicks.\n",
              "      quickchartButtonEl.classList.add('colab-df-spinner');\n",
              "      try {\n",
              "        const charts = await google.colab.kernel.invokeFunction(\n",
              "            'suggestCharts', [key], {});\n",
              "      } catch (error) {\n",
              "        console.error('Error during call to suggestCharts:', error);\n",
              "      }\n",
              "      quickchartButtonEl.classList.remove('colab-df-spinner');\n",
              "      quickchartButtonEl.classList.add('colab-df-quickchart-complete');\n",
              "    }\n",
              "    (() => {\n",
              "      let quickchartButtonEl =\n",
              "        document.querySelector('#df-c607e936-fda6-42f1-8793-d840bce7e1d4 button');\n",
              "      quickchartButtonEl.style.display =\n",
              "        google.colab.kernel.accessAllowed ? 'block' : 'none';\n",
              "    })();\n",
              "  </script>\n",
              "</div>\n",
              "\n",
              "    </div>\n",
              "  </div>\n"
            ],
            "application/vnd.google.colaboratory.intrinsic+json": {
              "type": "dataframe",
              "variable_name": "dataset",
              "summary": "{\n  \"name\": \"dataset\",\n  \"rows\": 10000,\n  \"fields\": [\n    {\n      \"column\": \"RowNumber\",\n      \"properties\": {\n        \"dtype\": \"number\",\n        \"std\": 2886,\n        \"min\": 1,\n        \"max\": 10000,\n        \"num_unique_values\": 10000,\n        \"samples\": [\n          6253,\n          4685,\n          1732\n        ],\n        \"semantic_type\": \"\",\n        \"description\": \"\"\n      }\n    },\n    {\n      \"column\": \"CustomerId\",\n      \"properties\": {\n        \"dtype\": \"number\",\n        \"std\": 71936,\n        \"min\": 15565701,\n        \"max\": 15815690,\n        \"num_unique_values\": 10000,\n        \"samples\": [\n          15687492,\n          15736963,\n          15721730\n        ],\n        \"semantic_type\": \"\",\n        \"description\": \"\"\n      }\n    },\n    {\n      \"column\": \"Surname\",\n      \"properties\": {\n        \"dtype\": \"category\",\n        \"num_unique_values\": 2932,\n        \"samples\": [\n          \"McGuirk\",\n          \"Torkelson\",\n          \"Rapuluchukwu\"\n        ],\n        \"semantic_type\": \"\",\n        \"description\": \"\"\n      }\n    },\n    {\n      \"column\": \"CreditScore\",\n      \"properties\": {\n        \"dtype\": \"number\",\n        \"std\": 96,\n        \"min\": 350,\n        \"max\": 850,\n        \"num_unique_values\": 460,\n        \"samples\": [\n          754,\n          533,\n          744\n        ],\n        \"semantic_type\": \"\",\n        \"description\": \"\"\n      }\n    },\n    {\n      \"column\": \"Geography\",\n      \"properties\": {\n        \"dtype\": \"category\",\n        \"num_unique_values\": 3,\n        \"samples\": [\n          \"France\",\n          \"Spain\",\n          \"Germany\"\n        ],\n        \"semantic_type\": \"\",\n        \"description\": \"\"\n      }\n    },\n    {\n      \"column\": \"Gender\",\n      \"properties\": {\n        \"dtype\": \"category\",\n        \"num_unique_values\": 2,\n        \"samples\": [\n          \"Male\",\n          \"Female\"\n        ],\n        \"semantic_type\": \"\",\n        \"description\": \"\"\n      }\n    },\n    {\n      \"column\": \"Age\",\n      \"properties\": {\n        \"dtype\": \"number\",\n        \"std\": 10,\n        \"min\": 18,\n        \"max\": 92,\n        \"num_unique_values\": 70,\n        \"samples\": [\n          61,\n          42\n        ],\n        \"semantic_type\": \"\",\n        \"description\": \"\"\n      }\n    },\n    {\n      \"column\": \"Tenure\",\n      \"properties\": {\n        \"dtype\": \"number\",\n        \"std\": 2,\n        \"min\": 0,\n        \"max\": 10,\n        \"num_unique_values\": 11,\n        \"samples\": [\n          6,\n          2\n        ],\n        \"semantic_type\": \"\",\n        \"description\": \"\"\n      }\n    },\n    {\n      \"column\": \"Balance\",\n      \"properties\": {\n        \"dtype\": \"number\",\n        \"std\": 62397.405202385955,\n        \"min\": 0.0,\n        \"max\": 250898.09,\n        \"num_unique_values\": 6382,\n        \"samples\": [\n          117707.18,\n          133050.97\n        ],\n        \"semantic_type\": \"\",\n        \"description\": \"\"\n      }\n    },\n    {\n      \"column\": \"NumOfProducts\",\n      \"properties\": {\n        \"dtype\": \"number\",\n        \"std\": 0,\n        \"min\": 1,\n        \"max\": 4,\n        \"num_unique_values\": 4,\n        \"samples\": [\n          3,\n          4\n        ],\n        \"semantic_type\": \"\",\n        \"description\": \"\"\n      }\n    },\n    {\n      \"column\": \"HasCrCard\",\n      \"properties\": {\n        \"dtype\": \"number\",\n        \"std\": 0,\n        \"min\": 0,\n        \"max\": 1,\n        \"num_unique_values\": 2,\n        \"samples\": [\n          0,\n          1\n        ],\n        \"semantic_type\": \"\",\n        \"description\": \"\"\n      }\n    },\n    {\n      \"column\": \"IsActiveMember\",\n      \"properties\": {\n        \"dtype\": \"number\",\n        \"std\": 0,\n        \"min\": 0,\n        \"max\": 1,\n        \"num_unique_values\": 2,\n        \"samples\": [\n          0,\n          1\n        ],\n        \"semantic_type\": \"\",\n        \"description\": \"\"\n      }\n    },\n    {\n      \"column\": \"EstimatedSalary\",\n      \"properties\": {\n        \"dtype\": \"number\",\n        \"std\": 57510.49281769816,\n        \"min\": 11.58,\n        \"max\": 199992.48,\n        \"num_unique_values\": 9999,\n        \"samples\": [\n          100809.99,\n          95273.73\n        ],\n        \"semantic_type\": \"\",\n        \"description\": \"\"\n      }\n    },\n    {\n      \"column\": \"Exited\",\n      \"properties\": {\n        \"dtype\": \"number\",\n        \"std\": 0,\n        \"min\": 0,\n        \"max\": 1,\n        \"num_unique_values\": 2,\n        \"samples\": [\n          0,\n          1\n        ],\n        \"semantic_type\": \"\",\n        \"description\": \"\"\n      }\n    }\n  ]\n}"
            }
          },
          "metadata": {},
          "execution_count": 4
        }
      ]
    },
    {
      "cell_type": "code",
      "source": [
        "X = dataset.iloc[:,3:13]\n",
        "X.head()"
      ],
      "metadata": {
        "colab": {
          "base_uri": "https://localhost:8080/",
          "height": 206
        },
        "id": "890FmCfeTgd2",
        "outputId": "bfdcba8b-798d-42b7-d217-e28126b11262"
      },
      "execution_count": 5,
      "outputs": [
        {
          "output_type": "execute_result",
          "data": {
            "text/plain": [
              "   CreditScore Geography  Gender  Age  Tenure    Balance  NumOfProducts  \\\n",
              "0          619    France  Female   42       2       0.00              1   \n",
              "1          608     Spain  Female   41       1   83807.86              1   \n",
              "2          502    France  Female   42       8  159660.80              3   \n",
              "3          699    France  Female   39       1       0.00              2   \n",
              "4          850     Spain  Female   43       2  125510.82              1   \n",
              "\n",
              "   HasCrCard  IsActiveMember  EstimatedSalary  \n",
              "0          1               1        101348.88  \n",
              "1          0               1        112542.58  \n",
              "2          1               0        113931.57  \n",
              "3          0               0         93826.63  \n",
              "4          1               1         79084.10  "
            ],
            "text/html": [
              "\n",
              "  <div id=\"df-76bf67b7-4a46-452e-a810-88f44638a425\" class=\"colab-df-container\">\n",
              "    <div>\n",
              "<style scoped>\n",
              "    .dataframe tbody tr th:only-of-type {\n",
              "        vertical-align: middle;\n",
              "    }\n",
              "\n",
              "    .dataframe tbody tr th {\n",
              "        vertical-align: top;\n",
              "    }\n",
              "\n",
              "    .dataframe thead th {\n",
              "        text-align: right;\n",
              "    }\n",
              "</style>\n",
              "<table border=\"1\" class=\"dataframe\">\n",
              "  <thead>\n",
              "    <tr style=\"text-align: right;\">\n",
              "      <th></th>\n",
              "      <th>CreditScore</th>\n",
              "      <th>Geography</th>\n",
              "      <th>Gender</th>\n",
              "      <th>Age</th>\n",
              "      <th>Tenure</th>\n",
              "      <th>Balance</th>\n",
              "      <th>NumOfProducts</th>\n",
              "      <th>HasCrCard</th>\n",
              "      <th>IsActiveMember</th>\n",
              "      <th>EstimatedSalary</th>\n",
              "    </tr>\n",
              "  </thead>\n",
              "  <tbody>\n",
              "    <tr>\n",
              "      <th>0</th>\n",
              "      <td>619</td>\n",
              "      <td>France</td>\n",
              "      <td>Female</td>\n",
              "      <td>42</td>\n",
              "      <td>2</td>\n",
              "      <td>0.00</td>\n",
              "      <td>1</td>\n",
              "      <td>1</td>\n",
              "      <td>1</td>\n",
              "      <td>101348.88</td>\n",
              "    </tr>\n",
              "    <tr>\n",
              "      <th>1</th>\n",
              "      <td>608</td>\n",
              "      <td>Spain</td>\n",
              "      <td>Female</td>\n",
              "      <td>41</td>\n",
              "      <td>1</td>\n",
              "      <td>83807.86</td>\n",
              "      <td>1</td>\n",
              "      <td>0</td>\n",
              "      <td>1</td>\n",
              "      <td>112542.58</td>\n",
              "    </tr>\n",
              "    <tr>\n",
              "      <th>2</th>\n",
              "      <td>502</td>\n",
              "      <td>France</td>\n",
              "      <td>Female</td>\n",
              "      <td>42</td>\n",
              "      <td>8</td>\n",
              "      <td>159660.80</td>\n",
              "      <td>3</td>\n",
              "      <td>1</td>\n",
              "      <td>0</td>\n",
              "      <td>113931.57</td>\n",
              "    </tr>\n",
              "    <tr>\n",
              "      <th>3</th>\n",
              "      <td>699</td>\n",
              "      <td>France</td>\n",
              "      <td>Female</td>\n",
              "      <td>39</td>\n",
              "      <td>1</td>\n",
              "      <td>0.00</td>\n",
              "      <td>2</td>\n",
              "      <td>0</td>\n",
              "      <td>0</td>\n",
              "      <td>93826.63</td>\n",
              "    </tr>\n",
              "    <tr>\n",
              "      <th>4</th>\n",
              "      <td>850</td>\n",
              "      <td>Spain</td>\n",
              "      <td>Female</td>\n",
              "      <td>43</td>\n",
              "      <td>2</td>\n",
              "      <td>125510.82</td>\n",
              "      <td>1</td>\n",
              "      <td>1</td>\n",
              "      <td>1</td>\n",
              "      <td>79084.10</td>\n",
              "    </tr>\n",
              "  </tbody>\n",
              "</table>\n",
              "</div>\n",
              "    <div class=\"colab-df-buttons\">\n",
              "\n",
              "  <div class=\"colab-df-container\">\n",
              "    <button class=\"colab-df-convert\" onclick=\"convertToInteractive('df-76bf67b7-4a46-452e-a810-88f44638a425')\"\n",
              "            title=\"Convert this dataframe to an interactive table.\"\n",
              "            style=\"display:none;\">\n",
              "\n",
              "  <svg xmlns=\"http://www.w3.org/2000/svg\" height=\"24px\" viewBox=\"0 -960 960 960\">\n",
              "    <path d=\"M120-120v-720h720v720H120Zm60-500h600v-160H180v160Zm220 220h160v-160H400v160Zm0 220h160v-160H400v160ZM180-400h160v-160H180v160Zm440 0h160v-160H620v160ZM180-180h160v-160H180v160Zm440 0h160v-160H620v160Z\"/>\n",
              "  </svg>\n",
              "    </button>\n",
              "\n",
              "  <style>\n",
              "    .colab-df-container {\n",
              "      display:flex;\n",
              "      gap: 12px;\n",
              "    }\n",
              "\n",
              "    .colab-df-convert {\n",
              "      background-color: #E8F0FE;\n",
              "      border: none;\n",
              "      border-radius: 50%;\n",
              "      cursor: pointer;\n",
              "      display: none;\n",
              "      fill: #1967D2;\n",
              "      height: 32px;\n",
              "      padding: 0 0 0 0;\n",
              "      width: 32px;\n",
              "    }\n",
              "\n",
              "    .colab-df-convert:hover {\n",
              "      background-color: #E2EBFA;\n",
              "      box-shadow: 0px 1px 2px rgba(60, 64, 67, 0.3), 0px 1px 3px 1px rgba(60, 64, 67, 0.15);\n",
              "      fill: #174EA6;\n",
              "    }\n",
              "\n",
              "    .colab-df-buttons div {\n",
              "      margin-bottom: 4px;\n",
              "    }\n",
              "\n",
              "    [theme=dark] .colab-df-convert {\n",
              "      background-color: #3B4455;\n",
              "      fill: #D2E3FC;\n",
              "    }\n",
              "\n",
              "    [theme=dark] .colab-df-convert:hover {\n",
              "      background-color: #434B5C;\n",
              "      box-shadow: 0px 1px 3px 1px rgba(0, 0, 0, 0.15);\n",
              "      filter: drop-shadow(0px 1px 2px rgba(0, 0, 0, 0.3));\n",
              "      fill: #FFFFFF;\n",
              "    }\n",
              "  </style>\n",
              "\n",
              "    <script>\n",
              "      const buttonEl =\n",
              "        document.querySelector('#df-76bf67b7-4a46-452e-a810-88f44638a425 button.colab-df-convert');\n",
              "      buttonEl.style.display =\n",
              "        google.colab.kernel.accessAllowed ? 'block' : 'none';\n",
              "\n",
              "      async function convertToInteractive(key) {\n",
              "        const element = document.querySelector('#df-76bf67b7-4a46-452e-a810-88f44638a425');\n",
              "        const dataTable =\n",
              "          await google.colab.kernel.invokeFunction('convertToInteractive',\n",
              "                                                    [key], {});\n",
              "        if (!dataTable) return;\n",
              "\n",
              "        const docLinkHtml = 'Like what you see? Visit the ' +\n",
              "          '<a target=\"_blank\" href=https://colab.research.google.com/notebooks/data_table.ipynb>data table notebook</a>'\n",
              "          + ' to learn more about interactive tables.';\n",
              "        element.innerHTML = '';\n",
              "        dataTable['output_type'] = 'display_data';\n",
              "        await google.colab.output.renderOutput(dataTable, element);\n",
              "        const docLink = document.createElement('div');\n",
              "        docLink.innerHTML = docLinkHtml;\n",
              "        element.appendChild(docLink);\n",
              "      }\n",
              "    </script>\n",
              "  </div>\n",
              "\n",
              "\n",
              "<div id=\"df-0478d152-b0aa-4d88-846c-e0994d81e71e\">\n",
              "  <button class=\"colab-df-quickchart\" onclick=\"quickchart('df-0478d152-b0aa-4d88-846c-e0994d81e71e')\"\n",
              "            title=\"Suggest charts\"\n",
              "            style=\"display:none;\">\n",
              "\n",
              "<svg xmlns=\"http://www.w3.org/2000/svg\" height=\"24px\"viewBox=\"0 0 24 24\"\n",
              "     width=\"24px\">\n",
              "    <g>\n",
              "        <path d=\"M19 3H5c-1.1 0-2 .9-2 2v14c0 1.1.9 2 2 2h14c1.1 0 2-.9 2-2V5c0-1.1-.9-2-2-2zM9 17H7v-7h2v7zm4 0h-2V7h2v10zm4 0h-2v-4h2v4z\"/>\n",
              "    </g>\n",
              "</svg>\n",
              "  </button>\n",
              "\n",
              "<style>\n",
              "  .colab-df-quickchart {\n",
              "      --bg-color: #E8F0FE;\n",
              "      --fill-color: #1967D2;\n",
              "      --hover-bg-color: #E2EBFA;\n",
              "      --hover-fill-color: #174EA6;\n",
              "      --disabled-fill-color: #AAA;\n",
              "      --disabled-bg-color: #DDD;\n",
              "  }\n",
              "\n",
              "  [theme=dark] .colab-df-quickchart {\n",
              "      --bg-color: #3B4455;\n",
              "      --fill-color: #D2E3FC;\n",
              "      --hover-bg-color: #434B5C;\n",
              "      --hover-fill-color: #FFFFFF;\n",
              "      --disabled-bg-color: #3B4455;\n",
              "      --disabled-fill-color: #666;\n",
              "  }\n",
              "\n",
              "  .colab-df-quickchart {\n",
              "    background-color: var(--bg-color);\n",
              "    border: none;\n",
              "    border-radius: 50%;\n",
              "    cursor: pointer;\n",
              "    display: none;\n",
              "    fill: var(--fill-color);\n",
              "    height: 32px;\n",
              "    padding: 0;\n",
              "    width: 32px;\n",
              "  }\n",
              "\n",
              "  .colab-df-quickchart:hover {\n",
              "    background-color: var(--hover-bg-color);\n",
              "    box-shadow: 0 1px 2px rgba(60, 64, 67, 0.3), 0 1px 3px 1px rgba(60, 64, 67, 0.15);\n",
              "    fill: var(--button-hover-fill-color);\n",
              "  }\n",
              "\n",
              "  .colab-df-quickchart-complete:disabled,\n",
              "  .colab-df-quickchart-complete:disabled:hover {\n",
              "    background-color: var(--disabled-bg-color);\n",
              "    fill: var(--disabled-fill-color);\n",
              "    box-shadow: none;\n",
              "  }\n",
              "\n",
              "  .colab-df-spinner {\n",
              "    border: 2px solid var(--fill-color);\n",
              "    border-color: transparent;\n",
              "    border-bottom-color: var(--fill-color);\n",
              "    animation:\n",
              "      spin 1s steps(1) infinite;\n",
              "  }\n",
              "\n",
              "  @keyframes spin {\n",
              "    0% {\n",
              "      border-color: transparent;\n",
              "      border-bottom-color: var(--fill-color);\n",
              "      border-left-color: var(--fill-color);\n",
              "    }\n",
              "    20% {\n",
              "      border-color: transparent;\n",
              "      border-left-color: var(--fill-color);\n",
              "      border-top-color: var(--fill-color);\n",
              "    }\n",
              "    30% {\n",
              "      border-color: transparent;\n",
              "      border-left-color: var(--fill-color);\n",
              "      border-top-color: var(--fill-color);\n",
              "      border-right-color: var(--fill-color);\n",
              "    }\n",
              "    40% {\n",
              "      border-color: transparent;\n",
              "      border-right-color: var(--fill-color);\n",
              "      border-top-color: var(--fill-color);\n",
              "    }\n",
              "    60% {\n",
              "      border-color: transparent;\n",
              "      border-right-color: var(--fill-color);\n",
              "    }\n",
              "    80% {\n",
              "      border-color: transparent;\n",
              "      border-right-color: var(--fill-color);\n",
              "      border-bottom-color: var(--fill-color);\n",
              "    }\n",
              "    90% {\n",
              "      border-color: transparent;\n",
              "      border-bottom-color: var(--fill-color);\n",
              "    }\n",
              "  }\n",
              "</style>\n",
              "\n",
              "  <script>\n",
              "    async function quickchart(key) {\n",
              "      const quickchartButtonEl =\n",
              "        document.querySelector('#' + key + ' button');\n",
              "      quickchartButtonEl.disabled = true;  // To prevent multiple clicks.\n",
              "      quickchartButtonEl.classList.add('colab-df-spinner');\n",
              "      try {\n",
              "        const charts = await google.colab.kernel.invokeFunction(\n",
              "            'suggestCharts', [key], {});\n",
              "      } catch (error) {\n",
              "        console.error('Error during call to suggestCharts:', error);\n",
              "      }\n",
              "      quickchartButtonEl.classList.remove('colab-df-spinner');\n",
              "      quickchartButtonEl.classList.add('colab-df-quickchart-complete');\n",
              "    }\n",
              "    (() => {\n",
              "      let quickchartButtonEl =\n",
              "        document.querySelector('#df-0478d152-b0aa-4d88-846c-e0994d81e71e button');\n",
              "      quickchartButtonEl.style.display =\n",
              "        google.colab.kernel.accessAllowed ? 'block' : 'none';\n",
              "    })();\n",
              "  </script>\n",
              "</div>\n",
              "\n",
              "    </div>\n",
              "  </div>\n"
            ],
            "application/vnd.google.colaboratory.intrinsic+json": {
              "type": "dataframe",
              "variable_name": "X",
              "summary": "{\n  \"name\": \"X\",\n  \"rows\": 10000,\n  \"fields\": [\n    {\n      \"column\": \"CreditScore\",\n      \"properties\": {\n        \"dtype\": \"number\",\n        \"std\": 96,\n        \"min\": 350,\n        \"max\": 850,\n        \"num_unique_values\": 460,\n        \"samples\": [\n          754,\n          533,\n          744\n        ],\n        \"semantic_type\": \"\",\n        \"description\": \"\"\n      }\n    },\n    {\n      \"column\": \"Geography\",\n      \"properties\": {\n        \"dtype\": \"category\",\n        \"num_unique_values\": 3,\n        \"samples\": [\n          \"France\",\n          \"Spain\",\n          \"Germany\"\n        ],\n        \"semantic_type\": \"\",\n        \"description\": \"\"\n      }\n    },\n    {\n      \"column\": \"Gender\",\n      \"properties\": {\n        \"dtype\": \"category\",\n        \"num_unique_values\": 2,\n        \"samples\": [\n          \"Male\",\n          \"Female\"\n        ],\n        \"semantic_type\": \"\",\n        \"description\": \"\"\n      }\n    },\n    {\n      \"column\": \"Age\",\n      \"properties\": {\n        \"dtype\": \"number\",\n        \"std\": 10,\n        \"min\": 18,\n        \"max\": 92,\n        \"num_unique_values\": 70,\n        \"samples\": [\n          61,\n          42\n        ],\n        \"semantic_type\": \"\",\n        \"description\": \"\"\n      }\n    },\n    {\n      \"column\": \"Tenure\",\n      \"properties\": {\n        \"dtype\": \"number\",\n        \"std\": 2,\n        \"min\": 0,\n        \"max\": 10,\n        \"num_unique_values\": 11,\n        \"samples\": [\n          6,\n          2\n        ],\n        \"semantic_type\": \"\",\n        \"description\": \"\"\n      }\n    },\n    {\n      \"column\": \"Balance\",\n      \"properties\": {\n        \"dtype\": \"number\",\n        \"std\": 62397.405202385955,\n        \"min\": 0.0,\n        \"max\": 250898.09,\n        \"num_unique_values\": 6382,\n        \"samples\": [\n          117707.18,\n          133050.97\n        ],\n        \"semantic_type\": \"\",\n        \"description\": \"\"\n      }\n    },\n    {\n      \"column\": \"NumOfProducts\",\n      \"properties\": {\n        \"dtype\": \"number\",\n        \"std\": 0,\n        \"min\": 1,\n        \"max\": 4,\n        \"num_unique_values\": 4,\n        \"samples\": [\n          3,\n          4\n        ],\n        \"semantic_type\": \"\",\n        \"description\": \"\"\n      }\n    },\n    {\n      \"column\": \"HasCrCard\",\n      \"properties\": {\n        \"dtype\": \"number\",\n        \"std\": 0,\n        \"min\": 0,\n        \"max\": 1,\n        \"num_unique_values\": 2,\n        \"samples\": [\n          0,\n          1\n        ],\n        \"semantic_type\": \"\",\n        \"description\": \"\"\n      }\n    },\n    {\n      \"column\": \"IsActiveMember\",\n      \"properties\": {\n        \"dtype\": \"number\",\n        \"std\": 0,\n        \"min\": 0,\n        \"max\": 1,\n        \"num_unique_values\": 2,\n        \"samples\": [\n          0,\n          1\n        ],\n        \"semantic_type\": \"\",\n        \"description\": \"\"\n      }\n    },\n    {\n      \"column\": \"EstimatedSalary\",\n      \"properties\": {\n        \"dtype\": \"number\",\n        \"std\": 57510.49281769816,\n        \"min\": 11.58,\n        \"max\": 199992.48,\n        \"num_unique_values\": 9999,\n        \"samples\": [\n          100809.99,\n          95273.73\n        ],\n        \"semantic_type\": \"\",\n        \"description\": \"\"\n      }\n    }\n  ]\n}"
            }
          },
          "metadata": {},
          "execution_count": 5
        }
      ]
    },
    {
      "cell_type": "code",
      "source": [
        "y = dataset.iloc[:,13]"
      ],
      "metadata": {
        "id": "-EJJTYj_TpfM"
      },
      "execution_count": 6,
      "outputs": []
    },
    {
      "cell_type": "markdown",
      "source": [
        "Create dummy variables"
      ],
      "metadata": {
        "id": "4G56rYacT5fi"
      }
    },
    {
      "cell_type": "code",
      "source": [
        "geography = pd.get_dummies(X['Geography'],drop_first=True)\n",
        "gender = pd.get_dummies(X['Gender'],drop_first=True)\n"
      ],
      "metadata": {
        "id": "wgmBxBquT4XL"
      },
      "execution_count": 7,
      "outputs": []
    },
    {
      "cell_type": "markdown",
      "source": [
        "Concatenate the DataFrames"
      ],
      "metadata": {
        "id": "v1Yu85RCUP11"
      }
    },
    {
      "cell_type": "code",
      "source": [
        "X = pd.concat([X,geography,gender],axis=1)\n",
        "X.head()"
      ],
      "metadata": {
        "colab": {
          "base_uri": "https://localhost:8080/",
          "height": 206
        },
        "id": "x1-Qmj3yUMBy",
        "outputId": "677f63f8-9329-455c-f3a7-abb65176a78b"
      },
      "execution_count": 8,
      "outputs": [
        {
          "output_type": "execute_result",
          "data": {
            "text/plain": [
              "   CreditScore Geography  Gender  Age  Tenure    Balance  NumOfProducts  \\\n",
              "0          619    France  Female   42       2       0.00              1   \n",
              "1          608     Spain  Female   41       1   83807.86              1   \n",
              "2          502    France  Female   42       8  159660.80              3   \n",
              "3          699    France  Female   39       1       0.00              2   \n",
              "4          850     Spain  Female   43       2  125510.82              1   \n",
              "\n",
              "   HasCrCard  IsActiveMember  EstimatedSalary  Germany  Spain   Male  \n",
              "0          1               1        101348.88    False  False  False  \n",
              "1          0               1        112542.58    False   True  False  \n",
              "2          1               0        113931.57    False  False  False  \n",
              "3          0               0         93826.63    False  False  False  \n",
              "4          1               1         79084.10    False   True  False  "
            ],
            "text/html": [
              "\n",
              "  <div id=\"df-a8cd82a0-ffe6-4f0e-b5c7-1ee6874905b9\" class=\"colab-df-container\">\n",
              "    <div>\n",
              "<style scoped>\n",
              "    .dataframe tbody tr th:only-of-type {\n",
              "        vertical-align: middle;\n",
              "    }\n",
              "\n",
              "    .dataframe tbody tr th {\n",
              "        vertical-align: top;\n",
              "    }\n",
              "\n",
              "    .dataframe thead th {\n",
              "        text-align: right;\n",
              "    }\n",
              "</style>\n",
              "<table border=\"1\" class=\"dataframe\">\n",
              "  <thead>\n",
              "    <tr style=\"text-align: right;\">\n",
              "      <th></th>\n",
              "      <th>CreditScore</th>\n",
              "      <th>Geography</th>\n",
              "      <th>Gender</th>\n",
              "      <th>Age</th>\n",
              "      <th>Tenure</th>\n",
              "      <th>Balance</th>\n",
              "      <th>NumOfProducts</th>\n",
              "      <th>HasCrCard</th>\n",
              "      <th>IsActiveMember</th>\n",
              "      <th>EstimatedSalary</th>\n",
              "      <th>Germany</th>\n",
              "      <th>Spain</th>\n",
              "      <th>Male</th>\n",
              "    </tr>\n",
              "  </thead>\n",
              "  <tbody>\n",
              "    <tr>\n",
              "      <th>0</th>\n",
              "      <td>619</td>\n",
              "      <td>France</td>\n",
              "      <td>Female</td>\n",
              "      <td>42</td>\n",
              "      <td>2</td>\n",
              "      <td>0.00</td>\n",
              "      <td>1</td>\n",
              "      <td>1</td>\n",
              "      <td>1</td>\n",
              "      <td>101348.88</td>\n",
              "      <td>False</td>\n",
              "      <td>False</td>\n",
              "      <td>False</td>\n",
              "    </tr>\n",
              "    <tr>\n",
              "      <th>1</th>\n",
              "      <td>608</td>\n",
              "      <td>Spain</td>\n",
              "      <td>Female</td>\n",
              "      <td>41</td>\n",
              "      <td>1</td>\n",
              "      <td>83807.86</td>\n",
              "      <td>1</td>\n",
              "      <td>0</td>\n",
              "      <td>1</td>\n",
              "      <td>112542.58</td>\n",
              "      <td>False</td>\n",
              "      <td>True</td>\n",
              "      <td>False</td>\n",
              "    </tr>\n",
              "    <tr>\n",
              "      <th>2</th>\n",
              "      <td>502</td>\n",
              "      <td>France</td>\n",
              "      <td>Female</td>\n",
              "      <td>42</td>\n",
              "      <td>8</td>\n",
              "      <td>159660.80</td>\n",
              "      <td>3</td>\n",
              "      <td>1</td>\n",
              "      <td>0</td>\n",
              "      <td>113931.57</td>\n",
              "      <td>False</td>\n",
              "      <td>False</td>\n",
              "      <td>False</td>\n",
              "    </tr>\n",
              "    <tr>\n",
              "      <th>3</th>\n",
              "      <td>699</td>\n",
              "      <td>France</td>\n",
              "      <td>Female</td>\n",
              "      <td>39</td>\n",
              "      <td>1</td>\n",
              "      <td>0.00</td>\n",
              "      <td>2</td>\n",
              "      <td>0</td>\n",
              "      <td>0</td>\n",
              "      <td>93826.63</td>\n",
              "      <td>False</td>\n",
              "      <td>False</td>\n",
              "      <td>False</td>\n",
              "    </tr>\n",
              "    <tr>\n",
              "      <th>4</th>\n",
              "      <td>850</td>\n",
              "      <td>Spain</td>\n",
              "      <td>Female</td>\n",
              "      <td>43</td>\n",
              "      <td>2</td>\n",
              "      <td>125510.82</td>\n",
              "      <td>1</td>\n",
              "      <td>1</td>\n",
              "      <td>1</td>\n",
              "      <td>79084.10</td>\n",
              "      <td>False</td>\n",
              "      <td>True</td>\n",
              "      <td>False</td>\n",
              "    </tr>\n",
              "  </tbody>\n",
              "</table>\n",
              "</div>\n",
              "    <div class=\"colab-df-buttons\">\n",
              "\n",
              "  <div class=\"colab-df-container\">\n",
              "    <button class=\"colab-df-convert\" onclick=\"convertToInteractive('df-a8cd82a0-ffe6-4f0e-b5c7-1ee6874905b9')\"\n",
              "            title=\"Convert this dataframe to an interactive table.\"\n",
              "            style=\"display:none;\">\n",
              "\n",
              "  <svg xmlns=\"http://www.w3.org/2000/svg\" height=\"24px\" viewBox=\"0 -960 960 960\">\n",
              "    <path d=\"M120-120v-720h720v720H120Zm60-500h600v-160H180v160Zm220 220h160v-160H400v160Zm0 220h160v-160H400v160ZM180-400h160v-160H180v160Zm440 0h160v-160H620v160ZM180-180h160v-160H180v160Zm440 0h160v-160H620v160Z\"/>\n",
              "  </svg>\n",
              "    </button>\n",
              "\n",
              "  <style>\n",
              "    .colab-df-container {\n",
              "      display:flex;\n",
              "      gap: 12px;\n",
              "    }\n",
              "\n",
              "    .colab-df-convert {\n",
              "      background-color: #E8F0FE;\n",
              "      border: none;\n",
              "      border-radius: 50%;\n",
              "      cursor: pointer;\n",
              "      display: none;\n",
              "      fill: #1967D2;\n",
              "      height: 32px;\n",
              "      padding: 0 0 0 0;\n",
              "      width: 32px;\n",
              "    }\n",
              "\n",
              "    .colab-df-convert:hover {\n",
              "      background-color: #E2EBFA;\n",
              "      box-shadow: 0px 1px 2px rgba(60, 64, 67, 0.3), 0px 1px 3px 1px rgba(60, 64, 67, 0.15);\n",
              "      fill: #174EA6;\n",
              "    }\n",
              "\n",
              "    .colab-df-buttons div {\n",
              "      margin-bottom: 4px;\n",
              "    }\n",
              "\n",
              "    [theme=dark] .colab-df-convert {\n",
              "      background-color: #3B4455;\n",
              "      fill: #D2E3FC;\n",
              "    }\n",
              "\n",
              "    [theme=dark] .colab-df-convert:hover {\n",
              "      background-color: #434B5C;\n",
              "      box-shadow: 0px 1px 3px 1px rgba(0, 0, 0, 0.15);\n",
              "      filter: drop-shadow(0px 1px 2px rgba(0, 0, 0, 0.3));\n",
              "      fill: #FFFFFF;\n",
              "    }\n",
              "  </style>\n",
              "\n",
              "    <script>\n",
              "      const buttonEl =\n",
              "        document.querySelector('#df-a8cd82a0-ffe6-4f0e-b5c7-1ee6874905b9 button.colab-df-convert');\n",
              "      buttonEl.style.display =\n",
              "        google.colab.kernel.accessAllowed ? 'block' : 'none';\n",
              "\n",
              "      async function convertToInteractive(key) {\n",
              "        const element = document.querySelector('#df-a8cd82a0-ffe6-4f0e-b5c7-1ee6874905b9');\n",
              "        const dataTable =\n",
              "          await google.colab.kernel.invokeFunction('convertToInteractive',\n",
              "                                                    [key], {});\n",
              "        if (!dataTable) return;\n",
              "\n",
              "        const docLinkHtml = 'Like what you see? Visit the ' +\n",
              "          '<a target=\"_blank\" href=https://colab.research.google.com/notebooks/data_table.ipynb>data table notebook</a>'\n",
              "          + ' to learn more about interactive tables.';\n",
              "        element.innerHTML = '';\n",
              "        dataTable['output_type'] = 'display_data';\n",
              "        await google.colab.output.renderOutput(dataTable, element);\n",
              "        const docLink = document.createElement('div');\n",
              "        docLink.innerHTML = docLinkHtml;\n",
              "        element.appendChild(docLink);\n",
              "      }\n",
              "    </script>\n",
              "  </div>\n",
              "\n",
              "\n",
              "<div id=\"df-449beaad-f5d8-4143-b81c-07100b6856a0\">\n",
              "  <button class=\"colab-df-quickchart\" onclick=\"quickchart('df-449beaad-f5d8-4143-b81c-07100b6856a0')\"\n",
              "            title=\"Suggest charts\"\n",
              "            style=\"display:none;\">\n",
              "\n",
              "<svg xmlns=\"http://www.w3.org/2000/svg\" height=\"24px\"viewBox=\"0 0 24 24\"\n",
              "     width=\"24px\">\n",
              "    <g>\n",
              "        <path d=\"M19 3H5c-1.1 0-2 .9-2 2v14c0 1.1.9 2 2 2h14c1.1 0 2-.9 2-2V5c0-1.1-.9-2-2-2zM9 17H7v-7h2v7zm4 0h-2V7h2v10zm4 0h-2v-4h2v4z\"/>\n",
              "    </g>\n",
              "</svg>\n",
              "  </button>\n",
              "\n",
              "<style>\n",
              "  .colab-df-quickchart {\n",
              "      --bg-color: #E8F0FE;\n",
              "      --fill-color: #1967D2;\n",
              "      --hover-bg-color: #E2EBFA;\n",
              "      --hover-fill-color: #174EA6;\n",
              "      --disabled-fill-color: #AAA;\n",
              "      --disabled-bg-color: #DDD;\n",
              "  }\n",
              "\n",
              "  [theme=dark] .colab-df-quickchart {\n",
              "      --bg-color: #3B4455;\n",
              "      --fill-color: #D2E3FC;\n",
              "      --hover-bg-color: #434B5C;\n",
              "      --hover-fill-color: #FFFFFF;\n",
              "      --disabled-bg-color: #3B4455;\n",
              "      --disabled-fill-color: #666;\n",
              "  }\n",
              "\n",
              "  .colab-df-quickchart {\n",
              "    background-color: var(--bg-color);\n",
              "    border: none;\n",
              "    border-radius: 50%;\n",
              "    cursor: pointer;\n",
              "    display: none;\n",
              "    fill: var(--fill-color);\n",
              "    height: 32px;\n",
              "    padding: 0;\n",
              "    width: 32px;\n",
              "  }\n",
              "\n",
              "  .colab-df-quickchart:hover {\n",
              "    background-color: var(--hover-bg-color);\n",
              "    box-shadow: 0 1px 2px rgba(60, 64, 67, 0.3), 0 1px 3px 1px rgba(60, 64, 67, 0.15);\n",
              "    fill: var(--button-hover-fill-color);\n",
              "  }\n",
              "\n",
              "  .colab-df-quickchart-complete:disabled,\n",
              "  .colab-df-quickchart-complete:disabled:hover {\n",
              "    background-color: var(--disabled-bg-color);\n",
              "    fill: var(--disabled-fill-color);\n",
              "    box-shadow: none;\n",
              "  }\n",
              "\n",
              "  .colab-df-spinner {\n",
              "    border: 2px solid var(--fill-color);\n",
              "    border-color: transparent;\n",
              "    border-bottom-color: var(--fill-color);\n",
              "    animation:\n",
              "      spin 1s steps(1) infinite;\n",
              "  }\n",
              "\n",
              "  @keyframes spin {\n",
              "    0% {\n",
              "      border-color: transparent;\n",
              "      border-bottom-color: var(--fill-color);\n",
              "      border-left-color: var(--fill-color);\n",
              "    }\n",
              "    20% {\n",
              "      border-color: transparent;\n",
              "      border-left-color: var(--fill-color);\n",
              "      border-top-color: var(--fill-color);\n",
              "    }\n",
              "    30% {\n",
              "      border-color: transparent;\n",
              "      border-left-color: var(--fill-color);\n",
              "      border-top-color: var(--fill-color);\n",
              "      border-right-color: var(--fill-color);\n",
              "    }\n",
              "    40% {\n",
              "      border-color: transparent;\n",
              "      border-right-color: var(--fill-color);\n",
              "      border-top-color: var(--fill-color);\n",
              "    }\n",
              "    60% {\n",
              "      border-color: transparent;\n",
              "      border-right-color: var(--fill-color);\n",
              "    }\n",
              "    80% {\n",
              "      border-color: transparent;\n",
              "      border-right-color: var(--fill-color);\n",
              "      border-bottom-color: var(--fill-color);\n",
              "    }\n",
              "    90% {\n",
              "      border-color: transparent;\n",
              "      border-bottom-color: var(--fill-color);\n",
              "    }\n",
              "  }\n",
              "</style>\n",
              "\n",
              "  <script>\n",
              "    async function quickchart(key) {\n",
              "      const quickchartButtonEl =\n",
              "        document.querySelector('#' + key + ' button');\n",
              "      quickchartButtonEl.disabled = true;  // To prevent multiple clicks.\n",
              "      quickchartButtonEl.classList.add('colab-df-spinner');\n",
              "      try {\n",
              "        const charts = await google.colab.kernel.invokeFunction(\n",
              "            'suggestCharts', [key], {});\n",
              "      } catch (error) {\n",
              "        console.error('Error during call to suggestCharts:', error);\n",
              "      }\n",
              "      quickchartButtonEl.classList.remove('colab-df-spinner');\n",
              "      quickchartButtonEl.classList.add('colab-df-quickchart-complete');\n",
              "    }\n",
              "    (() => {\n",
              "      let quickchartButtonEl =\n",
              "        document.querySelector('#df-449beaad-f5d8-4143-b81c-07100b6856a0 button');\n",
              "      quickchartButtonEl.style.display =\n",
              "        google.colab.kernel.accessAllowed ? 'block' : 'none';\n",
              "    })();\n",
              "  </script>\n",
              "</div>\n",
              "\n",
              "    </div>\n",
              "  </div>\n"
            ],
            "application/vnd.google.colaboratory.intrinsic+json": {
              "type": "dataframe",
              "variable_name": "X",
              "summary": "{\n  \"name\": \"X\",\n  \"rows\": 10000,\n  \"fields\": [\n    {\n      \"column\": \"CreditScore\",\n      \"properties\": {\n        \"dtype\": \"number\",\n        \"std\": 96,\n        \"min\": 350,\n        \"max\": 850,\n        \"num_unique_values\": 460,\n        \"samples\": [\n          754,\n          533,\n          744\n        ],\n        \"semantic_type\": \"\",\n        \"description\": \"\"\n      }\n    },\n    {\n      \"column\": \"Geography\",\n      \"properties\": {\n        \"dtype\": \"category\",\n        \"num_unique_values\": 3,\n        \"samples\": [\n          \"France\",\n          \"Spain\",\n          \"Germany\"\n        ],\n        \"semantic_type\": \"\",\n        \"description\": \"\"\n      }\n    },\n    {\n      \"column\": \"Gender\",\n      \"properties\": {\n        \"dtype\": \"category\",\n        \"num_unique_values\": 2,\n        \"samples\": [\n          \"Male\",\n          \"Female\"\n        ],\n        \"semantic_type\": \"\",\n        \"description\": \"\"\n      }\n    },\n    {\n      \"column\": \"Age\",\n      \"properties\": {\n        \"dtype\": \"number\",\n        \"std\": 10,\n        \"min\": 18,\n        \"max\": 92,\n        \"num_unique_values\": 70,\n        \"samples\": [\n          61,\n          42\n        ],\n        \"semantic_type\": \"\",\n        \"description\": \"\"\n      }\n    },\n    {\n      \"column\": \"Tenure\",\n      \"properties\": {\n        \"dtype\": \"number\",\n        \"std\": 2,\n        \"min\": 0,\n        \"max\": 10,\n        \"num_unique_values\": 11,\n        \"samples\": [\n          6,\n          2\n        ],\n        \"semantic_type\": \"\",\n        \"description\": \"\"\n      }\n    },\n    {\n      \"column\": \"Balance\",\n      \"properties\": {\n        \"dtype\": \"number\",\n        \"std\": 62397.405202385955,\n        \"min\": 0.0,\n        \"max\": 250898.09,\n        \"num_unique_values\": 6382,\n        \"samples\": [\n          117707.18,\n          133050.97\n        ],\n        \"semantic_type\": \"\",\n        \"description\": \"\"\n      }\n    },\n    {\n      \"column\": \"NumOfProducts\",\n      \"properties\": {\n        \"dtype\": \"number\",\n        \"std\": 0,\n        \"min\": 1,\n        \"max\": 4,\n        \"num_unique_values\": 4,\n        \"samples\": [\n          3,\n          4\n        ],\n        \"semantic_type\": \"\",\n        \"description\": \"\"\n      }\n    },\n    {\n      \"column\": \"HasCrCard\",\n      \"properties\": {\n        \"dtype\": \"number\",\n        \"std\": 0,\n        \"min\": 0,\n        \"max\": 1,\n        \"num_unique_values\": 2,\n        \"samples\": [\n          0,\n          1\n        ],\n        \"semantic_type\": \"\",\n        \"description\": \"\"\n      }\n    },\n    {\n      \"column\": \"IsActiveMember\",\n      \"properties\": {\n        \"dtype\": \"number\",\n        \"std\": 0,\n        \"min\": 0,\n        \"max\": 1,\n        \"num_unique_values\": 2,\n        \"samples\": [\n          0,\n          1\n        ],\n        \"semantic_type\": \"\",\n        \"description\": \"\"\n      }\n    },\n    {\n      \"column\": \"EstimatedSalary\",\n      \"properties\": {\n        \"dtype\": \"number\",\n        \"std\": 57510.49281769816,\n        \"min\": 11.58,\n        \"max\": 199992.48,\n        \"num_unique_values\": 9999,\n        \"samples\": [\n          100809.99,\n          95273.73\n        ],\n        \"semantic_type\": \"\",\n        \"description\": \"\"\n      }\n    },\n    {\n      \"column\": \"Germany\",\n      \"properties\": {\n        \"dtype\": \"boolean\",\n        \"num_unique_values\": 2,\n        \"samples\": [\n          true,\n          false\n        ],\n        \"semantic_type\": \"\",\n        \"description\": \"\"\n      }\n    },\n    {\n      \"column\": \"Spain\",\n      \"properties\": {\n        \"dtype\": \"boolean\",\n        \"num_unique_values\": 2,\n        \"samples\": [\n          true,\n          false\n        ],\n        \"semantic_type\": \"\",\n        \"description\": \"\"\n      }\n    },\n    {\n      \"column\": \"Male\",\n      \"properties\": {\n        \"dtype\": \"boolean\",\n        \"num_unique_values\": 2,\n        \"samples\": [\n          true,\n          false\n        ],\n        \"semantic_type\": \"\",\n        \"description\": \"\"\n      }\n    }\n  ]\n}"
            }
          },
          "metadata": {},
          "execution_count": 8
        }
      ]
    },
    {
      "cell_type": "markdown",
      "source": [
        "Drop unnecessary columns"
      ],
      "metadata": {
        "id": "Pt5N6uYhUjVO"
      }
    },
    {
      "cell_type": "code",
      "source": [
        "X=X.drop(['Geography','Gender'],axis=1)\n"
      ],
      "metadata": {
        "id": "9UrxUqMSUeTa"
      },
      "execution_count": 9,
      "outputs": []
    },
    {
      "cell_type": "markdown",
      "source": [
        "Splitting the dataset into the Training set and Test set\n"
      ],
      "metadata": {
        "id": "j-p9Z0aFUyyZ"
      }
    },
    {
      "cell_type": "code",
      "source": [
        "from sklearn.model_selection import train_test_split\n",
        "X_train,X_test,y_train,y_test = train_test_split(X,y,test_size=0.2,random_state=0)"
      ],
      "metadata": {
        "id": "Snd7SnX-Uwv9"
      },
      "execution_count": 10,
      "outputs": []
    },
    {
      "cell_type": "markdown",
      "source": [
        "Feature scaling"
      ],
      "metadata": {
        "id": "ecfA8JQ_VNFB"
      }
    },
    {
      "cell_type": "code",
      "source": [
        "from sklearn.preprocessing import StandardScaler\n",
        "sc = StandardScaler()\n",
        "X_train = sc.fit_transform(X_train)\n",
        "X_test = sc.transform(X_test)"
      ],
      "metadata": {
        "id": "SnbV0WxWVICA"
      },
      "execution_count": 11,
      "outputs": []
    },
    {
      "cell_type": "markdown",
      "source": [
        "# Part 2 - Now let's make the ANN!\n"
      ],
      "metadata": {
        "id": "nBBxI0c1VwtM"
      }
    },
    {
      "cell_type": "markdown",
      "source": [
        "Importing the Keras libraries and packages"
      ],
      "metadata": {
        "id": "wEwVQhLRVz69"
      }
    },
    {
      "cell_type": "code",
      "source": [
        "import keras\n",
        "from keras.models import Sequential\n",
        "from keras.layers import Dense\n",
        "from keras.layers import LeakyReLU,PReLU,ELU\n",
        "from keras.layers import Dropout"
      ],
      "metadata": {
        "id": "OHSX0WhUVVcx"
      },
      "execution_count": 12,
      "outputs": []
    },
    {
      "cell_type": "markdown",
      "source": [
        "Initialising the ANN"
      ],
      "metadata": {
        "id": "b-BC4sIOV6zV"
      }
    },
    {
      "cell_type": "code",
      "source": [
        "classifier = Sequential()"
      ],
      "metadata": {
        "id": "VFXgkx5TV2ld"
      },
      "execution_count": 13,
      "outputs": []
    },
    {
      "cell_type": "markdown",
      "source": [
        "Adding the input layer and the first hidden layer\n"
      ],
      "metadata": {
        "id": "eDI14YqbWAuj"
      }
    },
    {
      "cell_type": "code",
      "source": [
        "classifier.add(Dense(units = 6, kernel_initializer='he_uniform',activation = 'relu',input_dim = 11))\n"
      ],
      "metadata": {
        "id": "tWk3ewPHV-0L"
      },
      "execution_count": 14,
      "outputs": []
    },
    {
      "cell_type": "markdown",
      "source": [
        "Adding the second hidden layer"
      ],
      "metadata": {
        "id": "yVzP1zBrW70U"
      }
    },
    {
      "cell_type": "code",
      "source": [
        "classifier.add(Dense(units = 6, kernel_initializer='he_uniform',activation = 'relu'))\n"
      ],
      "metadata": {
        "id": "hZFq9JlIWWhA"
      },
      "execution_count": 15,
      "outputs": []
    },
    {
      "cell_type": "markdown",
      "source": [
        "Adding the output layer"
      ],
      "metadata": {
        "id": "JMBjF7i-XG2w"
      }
    },
    {
      "cell_type": "code",
      "source": [
        "classifier.add(Dense(units = 1, kernel_initializer='glorot_uniform',activation = 'sigmoid'))\n"
      ],
      "metadata": {
        "id": "b2EybsRjXENW"
      },
      "execution_count": 16,
      "outputs": []
    },
    {
      "cell_type": "markdown",
      "source": [
        " Compiling the ANN\n"
      ],
      "metadata": {
        "id": "in2c5ru0XW9C"
      }
    },
    {
      "cell_type": "code",
      "source": [
        "classifier.compile(optimizer='Adamax',loss='binary_crossentropy',metrics=['accuracy'])"
      ],
      "metadata": {
        "id": "8whWVx7UXUnJ"
      },
      "execution_count": 17,
      "outputs": []
    },
    {
      "cell_type": "markdown",
      "source": [
        "Fitting the ANN to the Training set"
      ],
      "metadata": {
        "id": "ej-2kt3EYY0G"
      }
    },
    {
      "cell_type": "code",
      "source": [
        "model_history=classifier.fit(X_train, y_train,validation_split=0.33, batch_size = 10,epochs = 100)\n"
      ],
      "metadata": {
        "colab": {
          "base_uri": "https://localhost:8080/"
        },
        "id": "gFUbygUxYazk",
        "outputId": "bb01ecee-5fc7-4afa-f42f-d07ab54581cc"
      },
      "execution_count": 25,
      "outputs": [
        {
          "output_type": "stream",
          "name": "stdout",
          "text": [
            "Epoch 1/100\n",
            "536/536 [==============================] - 6s 11ms/step - loss: 0.4732 - accuracy: 0.7994 - val_loss: 0.4731 - val_accuracy: 0.7993\n",
            "Epoch 2/100\n",
            "536/536 [==============================] - 6s 11ms/step - loss: 0.4630 - accuracy: 0.8043 - val_loss: 0.4650 - val_accuracy: 0.8020\n",
            "Epoch 3/100\n",
            "536/536 [==============================] - 6s 10ms/step - loss: 0.4554 - accuracy: 0.8112 - val_loss: 0.4585 - val_accuracy: 0.8016\n",
            "Epoch 4/100\n",
            "536/536 [==============================] - 7s 13ms/step - loss: 0.4490 - accuracy: 0.8140 - val_loss: 0.4532 - val_accuracy: 0.8054\n",
            "Epoch 5/100\n",
            "536/536 [==============================] - 4s 7ms/step - loss: 0.4437 - accuracy: 0.8117 - val_loss: 0.4485 - val_accuracy: 0.8080\n",
            "Epoch 6/100\n",
            "536/536 [==============================] - 3s 6ms/step - loss: 0.4389 - accuracy: 0.8140 - val_loss: 0.4449 - val_accuracy: 0.8065\n",
            "Epoch 7/100\n",
            "536/536 [==============================] - 4s 7ms/step - loss: 0.4350 - accuracy: 0.8136 - val_loss: 0.4415 - val_accuracy: 0.8073\n",
            "Epoch 8/100\n",
            "536/536 [==============================] - 3s 6ms/step - loss: 0.4317 - accuracy: 0.8156 - val_loss: 0.4387 - val_accuracy: 0.8076\n",
            "Epoch 9/100\n",
            "536/536 [==============================] - 4s 7ms/step - loss: 0.4287 - accuracy: 0.8166 - val_loss: 0.4363 - val_accuracy: 0.8088\n",
            "Epoch 10/100\n",
            "536/536 [==============================] - 4s 8ms/step - loss: 0.4261 - accuracy: 0.8162 - val_loss: 0.4342 - val_accuracy: 0.8103\n",
            "Epoch 11/100\n",
            "536/536 [==============================] - 4s 8ms/step - loss: 0.4239 - accuracy: 0.8188 - val_loss: 0.4322 - val_accuracy: 0.8111\n",
            "Epoch 12/100\n",
            "536/536 [==============================] - 4s 8ms/step - loss: 0.4218 - accuracy: 0.8184 - val_loss: 0.4303 - val_accuracy: 0.8141\n",
            "Epoch 13/100\n",
            "536/536 [==============================] - 4s 8ms/step - loss: 0.4197 - accuracy: 0.8179 - val_loss: 0.4285 - val_accuracy: 0.8152\n",
            "Epoch 14/100\n",
            "536/536 [==============================] - 4s 7ms/step - loss: 0.4178 - accuracy: 0.8192 - val_loss: 0.4269 - val_accuracy: 0.8164\n",
            "Epoch 15/100\n",
            "536/536 [==============================] - 4s 7ms/step - loss: 0.4158 - accuracy: 0.8194 - val_loss: 0.4251 - val_accuracy: 0.8175\n",
            "Epoch 16/100\n",
            "536/536 [==============================] - 4s 7ms/step - loss: 0.4138 - accuracy: 0.8194 - val_loss: 0.4236 - val_accuracy: 0.8183\n",
            "Epoch 17/100\n",
            "536/536 [==============================] - 5s 9ms/step - loss: 0.4118 - accuracy: 0.8199 - val_loss: 0.4221 - val_accuracy: 0.8179\n",
            "Epoch 18/100\n",
            "536/536 [==============================] - 4s 8ms/step - loss: 0.4099 - accuracy: 0.8220 - val_loss: 0.4207 - val_accuracy: 0.8179\n",
            "Epoch 19/100\n",
            "536/536 [==============================] - 5s 9ms/step - loss: 0.4081 - accuracy: 0.8218 - val_loss: 0.4193 - val_accuracy: 0.8186\n",
            "Epoch 20/100\n",
            "536/536 [==============================] - 4s 7ms/step - loss: 0.4063 - accuracy: 0.8225 - val_loss: 0.4178 - val_accuracy: 0.8201\n",
            "Epoch 21/100\n",
            "536/536 [==============================] - 3s 6ms/step - loss: 0.4049 - accuracy: 0.8237 - val_loss: 0.4166 - val_accuracy: 0.8201\n",
            "Epoch 22/100\n",
            "536/536 [==============================] - 3s 6ms/step - loss: 0.4033 - accuracy: 0.8244 - val_loss: 0.4156 - val_accuracy: 0.8183\n",
            "Epoch 23/100\n",
            "536/536 [==============================] - 4s 8ms/step - loss: 0.4019 - accuracy: 0.8246 - val_loss: 0.4145 - val_accuracy: 0.8175\n",
            "Epoch 24/100\n",
            "536/536 [==============================] - 4s 7ms/step - loss: 0.4005 - accuracy: 0.8252 - val_loss: 0.4134 - val_accuracy: 0.8175\n",
            "Epoch 25/100\n",
            "536/536 [==============================] - 4s 7ms/step - loss: 0.3990 - accuracy: 0.8261 - val_loss: 0.4125 - val_accuracy: 0.8171\n",
            "Epoch 26/100\n",
            "536/536 [==============================] - 4s 7ms/step - loss: 0.3978 - accuracy: 0.8261 - val_loss: 0.4112 - val_accuracy: 0.8186\n",
            "Epoch 27/100\n",
            "536/536 [==============================] - 3s 6ms/step - loss: 0.3963 - accuracy: 0.8283 - val_loss: 0.4102 - val_accuracy: 0.8171\n",
            "Epoch 28/100\n",
            "536/536 [==============================] - 3s 6ms/step - loss: 0.3949 - accuracy: 0.8283 - val_loss: 0.4092 - val_accuracy: 0.8179\n",
            "Epoch 29/100\n",
            "536/536 [==============================] - 3s 6ms/step - loss: 0.3938 - accuracy: 0.8285 - val_loss: 0.4082 - val_accuracy: 0.8171\n",
            "Epoch 30/100\n",
            "536/536 [==============================] - 4s 7ms/step - loss: 0.3927 - accuracy: 0.8291 - val_loss: 0.4074 - val_accuracy: 0.8171\n",
            "Epoch 31/100\n",
            "536/536 [==============================] - 3s 6ms/step - loss: 0.3913 - accuracy: 0.8294 - val_loss: 0.4063 - val_accuracy: 0.8164\n",
            "Epoch 32/100\n",
            "536/536 [==============================] - 4s 8ms/step - loss: 0.3900 - accuracy: 0.8304 - val_loss: 0.4052 - val_accuracy: 0.8171\n",
            "Epoch 33/100\n",
            "536/536 [==============================] - 5s 10ms/step - loss: 0.3889 - accuracy: 0.8311 - val_loss: 0.4043 - val_accuracy: 0.8194\n",
            "Epoch 34/100\n",
            "536/536 [==============================] - 4s 8ms/step - loss: 0.3878 - accuracy: 0.8315 - val_loss: 0.4033 - val_accuracy: 0.8190\n",
            "Epoch 35/100\n",
            "536/536 [==============================] - 4s 8ms/step - loss: 0.3866 - accuracy: 0.8332 - val_loss: 0.4025 - val_accuracy: 0.8194\n",
            "Epoch 36/100\n",
            "536/536 [==============================] - 5s 10ms/step - loss: 0.3855 - accuracy: 0.8337 - val_loss: 0.4017 - val_accuracy: 0.8194\n",
            "Epoch 37/100\n",
            "536/536 [==============================] - 3s 6ms/step - loss: 0.3844 - accuracy: 0.8345 - val_loss: 0.4008 - val_accuracy: 0.8186\n",
            "Epoch 38/100\n",
            "536/536 [==============================] - 4s 7ms/step - loss: 0.3834 - accuracy: 0.8343 - val_loss: 0.4001 - val_accuracy: 0.8190\n",
            "Epoch 39/100\n",
            "536/536 [==============================] - 5s 10ms/step - loss: 0.3822 - accuracy: 0.8354 - val_loss: 0.3996 - val_accuracy: 0.8198\n",
            "Epoch 40/100\n",
            "536/536 [==============================] - 5s 9ms/step - loss: 0.3813 - accuracy: 0.8362 - val_loss: 0.3990 - val_accuracy: 0.8209\n",
            "Epoch 41/100\n",
            "536/536 [==============================] - 4s 7ms/step - loss: 0.3804 - accuracy: 0.8358 - val_loss: 0.3979 - val_accuracy: 0.8220\n",
            "Epoch 42/100\n",
            "536/536 [==============================] - 5s 10ms/step - loss: 0.3797 - accuracy: 0.8380 - val_loss: 0.3973 - val_accuracy: 0.8224\n",
            "Epoch 43/100\n",
            "536/536 [==============================] - 7s 14ms/step - loss: 0.3786 - accuracy: 0.8377 - val_loss: 0.3965 - val_accuracy: 0.8243\n",
            "Epoch 44/100\n",
            "536/536 [==============================] - 8s 15ms/step - loss: 0.3776 - accuracy: 0.8375 - val_loss: 0.3957 - val_accuracy: 0.8247\n",
            "Epoch 45/100\n",
            "536/536 [==============================] - 7s 13ms/step - loss: 0.3768 - accuracy: 0.8386 - val_loss: 0.3948 - val_accuracy: 0.8254\n",
            "Epoch 46/100\n",
            "536/536 [==============================] - 7s 13ms/step - loss: 0.3758 - accuracy: 0.8391 - val_loss: 0.3943 - val_accuracy: 0.8254\n",
            "Epoch 47/100\n",
            "536/536 [==============================] - 4s 7ms/step - loss: 0.3750 - accuracy: 0.8388 - val_loss: 0.3937 - val_accuracy: 0.8270\n",
            "Epoch 48/100\n",
            "536/536 [==============================] - 4s 7ms/step - loss: 0.3741 - accuracy: 0.8405 - val_loss: 0.3931 - val_accuracy: 0.8281\n",
            "Epoch 49/100\n",
            "536/536 [==============================] - 3s 6ms/step - loss: 0.3733 - accuracy: 0.8414 - val_loss: 0.3922 - val_accuracy: 0.8289\n",
            "Epoch 50/100\n",
            "536/536 [==============================] - 3s 6ms/step - loss: 0.3724 - accuracy: 0.8405 - val_loss: 0.3916 - val_accuracy: 0.8292\n",
            "Epoch 51/100\n",
            "536/536 [==============================] - 4s 7ms/step - loss: 0.3716 - accuracy: 0.8418 - val_loss: 0.3909 - val_accuracy: 0.8292\n",
            "Epoch 52/100\n",
            "536/536 [==============================] - 5s 8ms/step - loss: 0.3708 - accuracy: 0.8418 - val_loss: 0.3903 - val_accuracy: 0.8292\n",
            "Epoch 53/100\n",
            "536/536 [==============================] - 3s 6ms/step - loss: 0.3700 - accuracy: 0.8429 - val_loss: 0.3902 - val_accuracy: 0.8304\n",
            "Epoch 54/100\n",
            "536/536 [==============================] - 4s 8ms/step - loss: 0.3694 - accuracy: 0.8447 - val_loss: 0.3895 - val_accuracy: 0.8311\n",
            "Epoch 55/100\n",
            "536/536 [==============================] - 4s 7ms/step - loss: 0.3688 - accuracy: 0.8447 - val_loss: 0.3889 - val_accuracy: 0.8289\n",
            "Epoch 56/100\n",
            "536/536 [==============================] - 4s 7ms/step - loss: 0.3681 - accuracy: 0.8440 - val_loss: 0.3885 - val_accuracy: 0.8315\n",
            "Epoch 57/100\n",
            "536/536 [==============================] - 4s 7ms/step - loss: 0.3675 - accuracy: 0.8451 - val_loss: 0.3880 - val_accuracy: 0.8319\n",
            "Epoch 58/100\n",
            "536/536 [==============================] - 4s 7ms/step - loss: 0.3670 - accuracy: 0.8440 - val_loss: 0.3873 - val_accuracy: 0.8330\n",
            "Epoch 59/100\n",
            "536/536 [==============================] - 4s 7ms/step - loss: 0.3665 - accuracy: 0.8438 - val_loss: 0.3870 - val_accuracy: 0.8311\n",
            "Epoch 60/100\n",
            "536/536 [==============================] - 3s 6ms/step - loss: 0.3660 - accuracy: 0.8455 - val_loss: 0.3863 - val_accuracy: 0.8319\n",
            "Epoch 61/100\n",
            "536/536 [==============================] - 4s 7ms/step - loss: 0.3654 - accuracy: 0.8442 - val_loss: 0.3861 - val_accuracy: 0.8334\n",
            "Epoch 62/100\n",
            "536/536 [==============================] - 3s 6ms/step - loss: 0.3650 - accuracy: 0.8455 - val_loss: 0.3860 - val_accuracy: 0.8319\n",
            "Epoch 63/100\n",
            "536/536 [==============================] - 4s 7ms/step - loss: 0.3645 - accuracy: 0.8466 - val_loss: 0.3856 - val_accuracy: 0.8338\n",
            "Epoch 64/100\n",
            "536/536 [==============================] - 4s 8ms/step - loss: 0.3641 - accuracy: 0.8475 - val_loss: 0.3849 - val_accuracy: 0.8338\n",
            "Epoch 65/100\n",
            "536/536 [==============================] - 3s 6ms/step - loss: 0.3634 - accuracy: 0.8470 - val_loss: 0.3842 - val_accuracy: 0.8338\n",
            "Epoch 66/100\n",
            "536/536 [==============================] - 4s 7ms/step - loss: 0.3630 - accuracy: 0.8457 - val_loss: 0.3847 - val_accuracy: 0.8345\n",
            "Epoch 67/100\n",
            "536/536 [==============================] - 4s 7ms/step - loss: 0.3627 - accuracy: 0.8475 - val_loss: 0.3834 - val_accuracy: 0.8357\n",
            "Epoch 68/100\n",
            "536/536 [==============================] - 4s 7ms/step - loss: 0.3624 - accuracy: 0.8464 - val_loss: 0.3832 - val_accuracy: 0.8345\n",
            "Epoch 69/100\n",
            "536/536 [==============================] - 3s 6ms/step - loss: 0.3618 - accuracy: 0.8483 - val_loss: 0.3829 - val_accuracy: 0.8345\n",
            "Epoch 70/100\n",
            "536/536 [==============================] - 4s 7ms/step - loss: 0.3615 - accuracy: 0.8475 - val_loss: 0.3824 - val_accuracy: 0.8334\n",
            "Epoch 71/100\n",
            "536/536 [==============================] - 5s 9ms/step - loss: 0.3613 - accuracy: 0.8485 - val_loss: 0.3821 - val_accuracy: 0.8338\n",
            "Epoch 72/100\n",
            "536/536 [==============================] - 3s 6ms/step - loss: 0.3604 - accuracy: 0.8485 - val_loss: 0.3827 - val_accuracy: 0.8330\n",
            "Epoch 73/100\n",
            "536/536 [==============================] - 4s 7ms/step - loss: 0.3602 - accuracy: 0.8487 - val_loss: 0.3813 - val_accuracy: 0.8334\n",
            "Epoch 74/100\n",
            "536/536 [==============================] - 4s 8ms/step - loss: 0.3600 - accuracy: 0.8475 - val_loss: 0.3812 - val_accuracy: 0.8357\n",
            "Epoch 75/100\n",
            "536/536 [==============================] - 4s 7ms/step - loss: 0.3595 - accuracy: 0.8496 - val_loss: 0.3813 - val_accuracy: 0.8349\n",
            "Epoch 76/100\n",
            "536/536 [==============================] - 4s 7ms/step - loss: 0.3592 - accuracy: 0.8477 - val_loss: 0.3805 - val_accuracy: 0.8345\n",
            "Epoch 77/100\n",
            "536/536 [==============================] - 4s 8ms/step - loss: 0.3588 - accuracy: 0.8479 - val_loss: 0.3802 - val_accuracy: 0.8334\n",
            "Epoch 78/100\n",
            "536/536 [==============================] - 4s 7ms/step - loss: 0.3585 - accuracy: 0.8475 - val_loss: 0.3802 - val_accuracy: 0.8345\n",
            "Epoch 79/100\n",
            "536/536 [==============================] - 3s 6ms/step - loss: 0.3580 - accuracy: 0.8492 - val_loss: 0.3801 - val_accuracy: 0.8319\n",
            "Epoch 80/100\n",
            "536/536 [==============================] - 3s 5ms/step - loss: 0.3578 - accuracy: 0.8490 - val_loss: 0.3793 - val_accuracy: 0.8345\n",
            "Epoch 81/100\n",
            "536/536 [==============================] - 4s 7ms/step - loss: 0.3572 - accuracy: 0.8502 - val_loss: 0.3800 - val_accuracy: 0.8334\n",
            "Epoch 82/100\n",
            "536/536 [==============================] - 3s 6ms/step - loss: 0.3571 - accuracy: 0.8507 - val_loss: 0.3787 - val_accuracy: 0.8326\n",
            "Epoch 83/100\n",
            "536/536 [==============================] - 4s 7ms/step - loss: 0.3566 - accuracy: 0.8500 - val_loss: 0.3778 - val_accuracy: 0.8357\n",
            "Epoch 84/100\n",
            "536/536 [==============================] - 3s 6ms/step - loss: 0.3564 - accuracy: 0.8507 - val_loss: 0.3778 - val_accuracy: 0.8338\n",
            "Epoch 85/100\n",
            "536/536 [==============================] - 4s 8ms/step - loss: 0.3558 - accuracy: 0.8513 - val_loss: 0.3772 - val_accuracy: 0.8357\n",
            "Epoch 86/100\n",
            "536/536 [==============================] - 4s 7ms/step - loss: 0.3556 - accuracy: 0.8496 - val_loss: 0.3774 - val_accuracy: 0.8319\n",
            "Epoch 87/100\n",
            "536/536 [==============================] - 4s 7ms/step - loss: 0.3553 - accuracy: 0.8515 - val_loss: 0.3768 - val_accuracy: 0.8342\n",
            "Epoch 88/100\n",
            "536/536 [==============================] - 4s 7ms/step - loss: 0.3548 - accuracy: 0.8526 - val_loss: 0.3777 - val_accuracy: 0.8323\n",
            "Epoch 89/100\n",
            "536/536 [==============================] - 3s 6ms/step - loss: 0.3549 - accuracy: 0.8517 - val_loss: 0.3762 - val_accuracy: 0.8357\n",
            "Epoch 90/100\n",
            "536/536 [==============================] - 3s 6ms/step - loss: 0.3544 - accuracy: 0.8509 - val_loss: 0.3760 - val_accuracy: 0.8357\n",
            "Epoch 91/100\n",
            "536/536 [==============================] - 4s 7ms/step - loss: 0.3542 - accuracy: 0.8513 - val_loss: 0.3759 - val_accuracy: 0.8345\n",
            "Epoch 92/100\n",
            "536/536 [==============================] - 4s 7ms/step - loss: 0.3537 - accuracy: 0.8511 - val_loss: 0.3757 - val_accuracy: 0.8334\n",
            "Epoch 93/100\n",
            "536/536 [==============================] - 3s 6ms/step - loss: 0.3534 - accuracy: 0.8515 - val_loss: 0.3754 - val_accuracy: 0.8342\n",
            "Epoch 94/100\n",
            "536/536 [==============================] - 4s 7ms/step - loss: 0.3529 - accuracy: 0.8520 - val_loss: 0.3749 - val_accuracy: 0.8357\n",
            "Epoch 95/100\n",
            "536/536 [==============================] - 7s 12ms/step - loss: 0.3527 - accuracy: 0.8528 - val_loss: 0.3748 - val_accuracy: 0.8364\n",
            "Epoch 96/100\n",
            "536/536 [==============================] - 3s 6ms/step - loss: 0.3523 - accuracy: 0.8505 - val_loss: 0.3744 - val_accuracy: 0.8372\n",
            "Epoch 97/100\n",
            "536/536 [==============================] - 3s 6ms/step - loss: 0.3519 - accuracy: 0.8524 - val_loss: 0.3743 - val_accuracy: 0.8364\n",
            "Epoch 98/100\n",
            "536/536 [==============================] - 4s 7ms/step - loss: 0.3516 - accuracy: 0.8526 - val_loss: 0.3741 - val_accuracy: 0.8364\n",
            "Epoch 99/100\n",
            "536/536 [==============================] - 4s 8ms/step - loss: 0.3514 - accuracy: 0.8520 - val_loss: 0.3735 - val_accuracy: 0.8364\n",
            "Epoch 100/100\n",
            "536/536 [==============================] - 3s 6ms/step - loss: 0.3511 - accuracy: 0.8520 - val_loss: 0.3740 - val_accuracy: 0.8368\n"
          ]
        }
      ]
    },
    {
      "cell_type": "markdown",
      "source": [
        "list all data in history\n"
      ],
      "metadata": {
        "id": "NsdVXiuxlNQf"
      }
    },
    {
      "cell_type": "code",
      "source": [
        "print(model_history.history.keys())"
      ],
      "metadata": {
        "colab": {
          "base_uri": "https://localhost:8080/"
        },
        "id": "QoTRTiKjlKiN",
        "outputId": "20220768-6d6e-4c45-84ef-9dcc6df0fdbf"
      },
      "execution_count": 26,
      "outputs": [
        {
          "output_type": "stream",
          "name": "stdout",
          "text": [
            "dict_keys(['loss', 'accuracy', 'val_loss', 'val_accuracy'])\n"
          ]
        }
      ]
    },
    {
      "cell_type": "markdown",
      "source": [
        "summarize history for accuracy"
      ],
      "metadata": {
        "id": "gWKgQdAHlStL"
      }
    },
    {
      "cell_type": "code",
      "source": [
        "plt.plot(model_history.history['accuracy'])\n",
        "plt.plot(model_history.history['val_accuracy'])\n",
        "plt.title('model accuracy')\n",
        "plt.ylabel('accuracy')\n",
        "plt.xlabel('epoch')\n",
        "plt.legend(['train', 'test'], loc='upper left')\n",
        "plt.show()"
      ],
      "metadata": {
        "colab": {
          "base_uri": "https://localhost:8080/",
          "height": 472
        },
        "id": "4mw2_SbxlOve",
        "outputId": "7cc9ec91-70dc-4587-d194-1dca9366aaa9"
      },
      "execution_count": 30,
      "outputs": [
        {
          "output_type": "display_data",
          "data": {
            "text/plain": [
              "<Figure size 640x480 with 1 Axes>"
            ],
            "image/png": "[encoded data removed]"
          },
          "metadata": {}
        }
      ]
    },
    {
      "cell_type": "markdown",
      "source": [
        "summarize history for loss"
      ],
      "metadata": {
        "id": "m9v1HruRlYgd"
      }
    },
    {
      "cell_type": "code",
      "source": [
        "plt.plot(model_history.history['loss'])\n",
        "plt.plot(model_history.history['val_loss'])\n",
        "plt.title('model loss')\n",
        "plt.ylabel('loss')\n",
        "plt.xlabel('epoch')\n",
        "plt.legend(['train', 'test'], loc='upper left')\n",
        "plt.show()"
      ],
      "metadata": {
        "colab": {
          "base_uri": "https://localhost:8080/",
          "height": 472
        },
        "id": "xplZTrB2lYE1",
        "outputId": "d5b4bab0-a10c-42e6-8e54-fa5226508d94"
      },
      "execution_count": 31,
      "outputs": [
        {
          "output_type": "display_data",
          "data": {
            "text/plain": [
              "<Figure size 640x480 with 1 Axes>"
            ],
            "image/png": "[encoded data removed]"
          },
          "metadata": {}
        }
      ]
    },
    {
      "cell_type": "markdown",
      "source": [
        "# Part 3 - Making the predictions and evaluating the model"
      ],
      "metadata": {
        "id": "PGEGSX8AX8cf"
      }
    },
    {
      "cell_type": "code",
      "source": [
        "# Predicting the Test set results\n",
        "y_pred = classifier.predict(X_test)\n",
        "y_pred = (y_pred > 0.5)"
      ],
      "metadata": {
        "colab": {
          "base_uri": "https://localhost:8080/"
        },
        "id": "rw_egcTLX1z1",
        "outputId": "936cf761-b2ed-4994-a3d0-9cc6db4c0cd0"
      },
      "execution_count": 32,
      "outputs": [
        {
          "output_type": "stream",
          "name": "stdout",
          "text": [
            "63/63 [==============================] - 0s 2ms/step\n"
          ]
        }
      ]
    },
    {
      "cell_type": "code",
      "source": [
        "# Making the Confusion Matrix\n",
        "from sklearn.metrics import confusion_matrix\n",
        "cm = confusion_matrix(y_test, y_pred)\n",
        "cm"
      ],
      "metadata": {
        "colab": {
          "base_uri": "https://localhost:8080/"
        },
        "id": "661CXRmZX_cs",
        "outputId": "c0822159-d79d-4ca3-f072-da2b327b9c26"
      },
      "execution_count": 33,
      "outputs": [
        {
          "output_type": "execute_result",
          "data": {
            "text/plain": [
              "array([[1503,   92],\n",
              "       [ 220,  185]])"
            ]
          },
          "metadata": {},
          "execution_count": 33
        }
      ]
    },
    {
      "cell_type": "code",
      "source": [
        "# Calculate the Accuracy\n",
        "from sklearn.metrics import accuracy_score\n",
        "score=accuracy_score(y_pred,y_test)\n",
        "score"
      ],
      "metadata": {
        "colab": {
          "base_uri": "https://localhost:8080/"
        },
        "id": "93SBzCRKYC5f",
        "outputId": "7d7404c4-2961-48c1-d077-e367ce5779f1"
      },
      "execution_count": 34,
      "outputs": [
        {
          "output_type": "execute_result",
          "data": {
            "text/plain": [
              "0.844"
            ]
          },
          "metadata": {},
          "execution_count": 34
        }
      ]
    },
    {
      "cell_type": "code",
      "source": [],
      "metadata": {
        "id": "DxgbRbwHkNAC"
      },
      "execution_count": null,
      "outputs": []
    }
  ]
}